{
 "cells": [
  {
   "cell_type": "markdown",
   "metadata": {},
   "source": [
    "## Organizing Images using CNN"
   ]
  },
  {
   "cell_type": "code",
   "execution_count": 1,
   "metadata": {},
   "outputs": [
    {
     "name": "stderr",
     "output_type": "stream",
     "text": [
      "Using TensorFlow backend.\n"
     ]
    }
   ],
   "source": [
    "import pandas as pd #for dataframe operations\n",
    "import numpy as np #for numerical operations\n",
    "import matplotlib.pyplot as plt #plotting graphs\n",
    "%matplotlib inline\n",
    "import tensorflow as tf #CNN operations\n",
    "import os #fetch data from directory\n",
    "from keras.layers import Flatten, Dense, Dropout\n",
    "from keras.preprocessing.image import ImageDataGenerator\n",
    "from keras.utils.np_utils import to_categorical\n",
    "from sklearn.metrics import confusion_matrix, classification_report\n",
    "import seaborn as sns"
   ]
  },
  {
   "cell_type": "code",
   "execution_count": 2,
   "metadata": {},
   "outputs": [],
   "source": [
    "# labelling the categories\n",
    "class_names = ['category 1', 'category 2', 'category 3', 'category 4']\n",
    "class_names_label = {label:i for i, label in enumerate(class_names)}"
   ]
  },
  {
   "cell_type": "code",
   "execution_count": 3,
   "metadata": {},
   "outputs": [
    {
     "name": "stdout",
     "output_type": "stream",
     "text": [
      "{'category 1': 0, 'category 2': 1, 'category 3': 2, 'category 4': 3}\n"
     ]
    }
   ],
   "source": [
    "# check labelled categories\n",
    "print(class_names_label)"
   ]
  },
  {
   "cell_type": "code",
   "execution_count": 8,
   "metadata": {},
   "outputs": [],
   "source": [
    "from tqdm import tqdm\n",
    "import cv2\n",
    "\n",
    "def load_train_data():\n",
    "    dataset = 'F:/DS/CNN_assignment-20200702T094027Z-001/CNN_assignment/Dataset/train'\n",
    "    images = []\n",
    "    labels = []\n",
    "    print('Loading {}'.format(dataset))\n",
    "    \n",
    "    for folder in os.listdir(dataset):\n",
    "        label = class_names_label[folder]\n",
    "        \n",
    "        for file in tqdm(os.listdir(os.path.join(dataset, folder))):\n",
    "            img_path = os.path.join(os.path.join(dataset, folder), file)\n",
    "            image = cv2.imread(img_path)\n",
    "            image = cv2.resize(image, (150, 150))\n",
    "            images.append(image)\n",
    "            labels.append(label)\n",
    "    \n",
    "    images = np.array(images, dtype = 'float32')\n",
    "    labels = np.array(labels, dtype = 'int32')\n",
    "    \n",
    "    return(images, labels)"
   ]
  },
  {
   "cell_type": "code",
   "execution_count": 49,
   "metadata": {},
   "outputs": [],
   "source": [
    "def load_test_data():\n",
    "    dataset = 'F:/DS/CNN_assignment-20200702T094027Z-001/CNN_assignment/Dataset/test'\n",
    "    images = []\n",
    "    image_id = []\n",
    "    print('loading {}', format(dataset))\n",
    "    \n",
    "    for file in tqdm(os.listdir(dataset)):\n",
    "        img_path = os.path.join(dataset, file)\n",
    "        image = cv2.imread(img_path)\n",
    "        image = cv2.resize(image, (150, 150))\n",
    "        images.append(image)\n",
    "        image_id.append(file)\n",
    "        \n",
    "    images = np.array(images, dtype = 'float32')\n",
    "    \n",
    "    return (image_id, images)"
   ]
  },
  {
   "cell_type": "code",
   "execution_count": 10,
   "metadata": {},
   "outputs": [
    {
     "name": "stdout",
     "output_type": "stream",
     "text": [
      "Loading F:/DS/CNN_assignment-20200702T094027Z-001/CNN_assignment/Dataset/train\n"
     ]
    },
    {
     "name": "stderr",
     "output_type": "stream",
     "text": [
      "100%|████████████████████████████████████████████████████████████████████████████████| 102/102 [00:02<00:00, 50.40it/s]\n",
      "100%|████████████████████████████████████████████████████████████████████████████████| 107/107 [00:01<00:00, 75.45it/s]\n",
      "100%|████████████████████████████████████████████████████████████████████████████████| 112/112 [00:01<00:00, 82.28it/s]\n",
      "100%|████████████████████████████████████████████████████████████████████████████████| 119/119 [00:01<00:00, 66.30it/s]\n"
     ]
    }
   ],
   "source": [
    "train_images, train_labels = load_train_data()"
   ]
  },
  {
   "cell_type": "code",
   "execution_count": 11,
   "metadata": {},
   "outputs": [
    {
     "name": "stdout",
     "output_type": "stream",
     "text": [
      "(440, 150, 150, 3)\n",
      "(440,)\n"
     ]
    }
   ],
   "source": [
    "print(train_images.shape)\n",
    "print(train_labels.shape)"
   ]
  },
  {
   "cell_type": "code",
   "execution_count": 13,
   "metadata": {},
   "outputs": [
    {
     "data": {
      "text/plain": [
       "array([0, 0, 0, 0, 0, 0, 0, 0, 0, 0, 0, 0, 0, 0, 0, 0, 0, 0, 0, 0, 0, 0,\n",
       "       0, 0, 0, 0, 0, 0, 0, 0, 0, 0, 0, 0, 0, 0, 0, 0, 0, 0, 0, 0, 0, 0,\n",
       "       0, 0, 0, 0, 0, 0, 0, 0, 0, 0, 0, 0, 0, 0, 0, 0, 0, 0, 0, 0, 0, 0,\n",
       "       0, 0, 0, 0, 0, 0, 0, 0, 0, 0, 0, 0, 0, 0, 0, 0, 0, 0, 0, 0, 0, 0,\n",
       "       0, 0, 0, 0, 0, 0, 0, 0, 0, 0, 0, 0, 0, 0, 1, 1, 1, 1, 1, 1, 1, 1,\n",
       "       1, 1, 1, 1, 1, 1, 1, 1, 1, 1, 1, 1, 1, 1, 1, 1, 1, 1, 1, 1, 1, 1,\n",
       "       1, 1, 1, 1, 1, 1, 1, 1, 1, 1, 1, 1, 1, 1, 1, 1, 1, 1, 1, 1, 1, 1,\n",
       "       1, 1, 1, 1, 1, 1, 1, 1, 1, 1, 1, 1, 1, 1, 1, 1, 1, 1, 1, 1, 1, 1,\n",
       "       1, 1, 1, 1, 1, 1, 1, 1, 1, 1, 1, 1, 1, 1, 1, 1, 1, 1, 1, 1, 1, 1,\n",
       "       1, 1, 1, 1, 1, 1, 1, 1, 1, 1, 1, 2, 2, 2, 2, 2, 2, 2, 2, 2, 2, 2,\n",
       "       2, 2, 2, 2, 2, 2, 2, 2, 2, 2, 2, 2, 2, 2, 2, 2, 2, 2, 2, 2, 2, 2,\n",
       "       2, 2, 2, 2, 2, 2, 2, 2, 2, 2, 2, 2, 2, 2, 2, 2, 2, 2, 2, 2, 2, 2,\n",
       "       2, 2, 2, 2, 2, 2, 2, 2, 2, 2, 2, 2, 2, 2, 2, 2, 2, 2, 2, 2, 2, 2,\n",
       "       2, 2, 2, 2, 2, 2, 2, 2, 2, 2, 2, 2, 2, 2, 2, 2, 2, 2, 2, 2, 2, 2,\n",
       "       2, 2, 2, 2, 2, 2, 2, 2, 2, 2, 2, 2, 2, 3, 3, 3, 3, 3, 3, 3, 3, 3,\n",
       "       3, 3, 3, 3, 3, 3, 3, 3, 3, 3, 3, 3, 3, 3, 3, 3, 3, 3, 3, 3, 3, 3,\n",
       "       3, 3, 3, 3, 3, 3, 3, 3, 3, 3, 3, 3, 3, 3, 3, 3, 3, 3, 3, 3, 3, 3,\n",
       "       3, 3, 3, 3, 3, 3, 3, 3, 3, 3, 3, 3, 3, 3, 3, 3, 3, 3, 3, 3, 3, 3,\n",
       "       3, 3, 3, 3, 3, 3, 3, 3, 3, 3, 3, 3, 3, 3, 3, 3, 3, 3, 3, 3, 3, 3,\n",
       "       3, 3, 3, 3, 3, 3, 3, 3, 3, 3, 3, 3, 3, 3, 3, 3, 3, 3, 3, 3, 3, 3])"
      ]
     },
     "execution_count": 13,
     "metadata": {},
     "output_type": "execute_result"
    }
   ],
   "source": [
    "train_labels"
   ]
  },
  {
   "cell_type": "code",
   "execution_count": 22,
   "metadata": {},
   "outputs": [
    {
     "name": "stderr",
     "output_type": "stream",
     "text": [
      "Clipping input data to the valid range for imshow with RGB data ([0..1] for floats or [0..255] for integers).\n"
     ]
    },
    {
     "data": {
      "image/png": "[encoded data removed]",
      "text/plain": [
       "<Figure size 432x288 with 1 Axes>"
      ]
     },
     "metadata": {
      "needs_background": "light"
     },
     "output_type": "display_data"
    },
    {
     "name": "stdout",
     "output_type": "stream",
     "text": [
      "1\n"
     ]
    }
   ],
   "source": [
    "plt.imshow(train_images[100])\n",
    "plt.show()\n",
    "print(train_labels[100]+1)"
   ]
  },
  {
   "cell_type": "code",
   "execution_count": 18,
   "metadata": {},
   "outputs": [
    {
     "name": "stderr",
     "output_type": "stream",
     "text": [
      "Clipping input data to the valid range for imshow with RGB data ([0..1] for floats or [0..255] for integers).\n"
     ]
    },
    {
     "data": {
      "image/png": "[encoded data removed]",
      "text/plain": [
       "<Figure size 432x288 with 1 Axes>"
      ]
     },
     "metadata": {
      "needs_background": "light"
     },
     "output_type": "display_data"
    },
    {
     "name": "stdout",
     "output_type": "stream",
     "text": [
      "2\n"
     ]
    }
   ],
   "source": [
    "plt.imshow(train_images[200])\n",
    "plt.show()\n",
    "print(train_labels[200]+1)"
   ]
  },
  {
   "cell_type": "code",
   "execution_count": 19,
   "metadata": {},
   "outputs": [
    {
     "name": "stderr",
     "output_type": "stream",
     "text": [
      "Clipping input data to the valid range for imshow with RGB data ([0..1] for floats or [0..255] for integers).\n"
     ]
    },
    {
     "data": {
      "image/png": "[encoded data removed]",
      "text/plain": [
       "<Figure size 432x288 with 1 Axes>"
      ]
     },
     "metadata": {
      "needs_background": "light"
     },
     "output_type": "display_data"
    },
    {
     "name": "stdout",
     "output_type": "stream",
     "text": [
      "1\n"
     ]
    }
   ],
   "source": [
    "plt.imshow(train_images[1])\n",
    "plt.show()\n",
    "print(train_labels[1]+1)"
   ]
  },
  {
   "cell_type": "code",
   "execution_count": 20,
   "metadata": {},
   "outputs": [
    {
     "name": "stderr",
     "output_type": "stream",
     "text": [
      "Clipping input data to the valid range for imshow with RGB data ([0..1] for floats or [0..255] for integers).\n"
     ]
    },
    {
     "data": {
      "image/png": "[encoded data removed]",
      "text/plain": [
       "<Figure size 432x288 with 1 Axes>"
      ]
     },
     "metadata": {
      "needs_background": "light"
     },
     "output_type": "display_data"
    },
    {
     "name": "stdout",
     "output_type": "stream",
     "text": [
      "4\n"
     ]
    }
   ],
   "source": [
    "plt.imshow(train_images[400])\n",
    "plt.show()\n",
    "print(train_labels[400]+1)"
   ]
  },
  {
   "cell_type": "code",
   "execution_count": 29,
   "metadata": {},
   "outputs": [],
   "source": [
    "# Building CNN Model\n",
    "from keras import Sequential\n",
    "from keras.layers.convolutional import Conv2D\n",
    "from keras.layers.pooling import MaxPooling2D, AvgPool2D\n",
    "from keras.activations import relu, softmax"
   ]
  },
  {
   "cell_type": "code",
   "execution_count": 45,
   "metadata": {},
   "outputs": [],
   "source": [
    "model = Sequential([\n",
    "    Conv2D(64, (7,7), padding='SAME', activation='relu', input_shape=(150, 150, 3)),\n",
    "    AvgPool2D(),\n",
    "    Flatten(),\n",
    "    Dense(128, activation=relu),\n",
    "    Dropout(0.4),\n",
    "    Dense(4, activation=softmax)\n",
    "])"
   ]
  },
  {
   "cell_type": "code",
   "execution_count": 31,
   "metadata": {},
   "outputs": [
    {
     "name": "stdout",
     "output_type": "stream",
     "text": [
      "Epoch 1/25\n",
      "440/440 [==============================] - ETA: 1:15 - loss: 85.2913 - accuracy: 0.312 - ETA: 45s - loss: 6206.2824 - accuracy: 0.26 - ETA: 33s - loss: 7629.5453 - accuracy: 0.27 - ETA: 26s - loss: 6710.6277 - accuracy: 0.29 - ETA: 22s - loss: 5492.9623 - accuracy: 0.33 - ETA: 18s - loss: 4691.1130 - accuracy: 0.31 - ETA: 15s - loss: 4066.6032 - accuracy: 0.31 - ETA: 12s - loss: 3585.0201 - accuracy: 0.31 - ETA: 10s - loss: 3199.3475 - accuracy: 0.30 - ETA: 7s - loss: 2885.5699 - accuracy: 0.3031 - ETA: 5s - loss: 2628.0795 - accuracy: 0.304 - ETA: 3s - loss: 2412.1470 - accuracy: 0.307 - ETA: 1s - loss: 2229.2321 - accuracy: 0.312 - 28s 63ms/step - loss: 2109.5160 - accuracy: 0.3136\n",
      "Epoch 2/25\n",
      "440/440 [==============================] - ETA: 24s - loss: 32.4054 - accuracy: 0.37 - ETA: 25s - loss: 27.2556 - accuracy: 0.45 - ETA: 24s - loss: 23.5055 - accuracy: 0.46 - ETA: 20s - loss: 20.8015 - accuracy: 0.47 - ETA: 18s - loss: 20.6155 - accuracy: 0.48 - ETA: 16s - loss: 18.4706 - accuracy: 0.50 - ETA: 13s - loss: 17.6758 - accuracy: 0.51 - ETA: 11s - loss: 16.4114 - accuracy: 0.54 - ETA: 9s - loss: 15.3355 - accuracy: 0.5556 - ETA: 7s - loss: 14.4925 - accuracy: 0.562 - ETA: 5s - loss: 14.0741 - accuracy: 0.551 - ETA: 3s - loss: 13.4179 - accuracy: 0.562 - ETA: 1s - loss: 12.9142 - accuracy: 0.572 - 26s 58ms/step - loss: 12.3850 - accuracy: 0.5818\n",
      "Epoch 3/25\n",
      "440/440 [==============================] - ETA: 20s - loss: 1.9066 - accuracy: 0.781 - ETA: 19s - loss: 2.3561 - accuracy: 0.781 - ETA: 17s - loss: 2.4376 - accuracy: 0.750 - ETA: 16s - loss: 1.9622 - accuracy: 0.773 - ETA: 14s - loss: 1.9088 - accuracy: 0.787 - ETA: 12s - loss: 1.9625 - accuracy: 0.781 - ETA: 11s - loss: 1.8945 - accuracy: 0.794 - ETA: 9s - loss: 1.8011 - accuracy: 0.796 - ETA: 7s - loss: 1.7332 - accuracy: 0.80 - ETA: 6s - loss: 1.6881 - accuracy: 0.80 - ETA: 4s - loss: 1.6375 - accuracy: 0.81 - ETA: 2s - loss: 1.5713 - accuracy: 0.82 - ETA: 1s - loss: 1.4631 - accuracy: 0.83 - 23s 53ms/step - loss: 1.4994 - accuracy: 0.8273\n",
      "Epoch 4/25\n",
      "440/440 [==============================] - ETA: 20s - loss: 0.3662 - accuracy: 0.937 - ETA: 19s - loss: 0.2984 - accuracy: 0.921 - ETA: 17s - loss: 0.2742 - accuracy: 0.916 - ETA: 16s - loss: 0.2525 - accuracy: 0.929 - ETA: 14s - loss: 0.4359 - accuracy: 0.912 - ETA: 12s - loss: 0.4323 - accuracy: 0.906 - ETA: 11s - loss: 0.4572 - accuracy: 0.910 - ETA: 9s - loss: 0.4305 - accuracy: 0.910 - ETA: 7s - loss: 0.4111 - accuracy: 0.91 - ETA: 6s - loss: 0.3820 - accuracy: 0.91 - ETA: 4s - loss: 0.3916 - accuracy: 0.91 - ETA: 2s - loss: 0.3958 - accuracy: 0.91 - ETA: 1s - loss: 0.4174 - accuracy: 0.90 - 23s 52ms/step - loss: 0.4729 - accuracy: 0.9114\n",
      "Epoch 5/25\n",
      "440/440 [==============================] - ETA: 20s - loss: 0.0462 - accuracy: 0.968 - ETA: 19s - loss: 0.0595 - accuracy: 0.968 - ETA: 17s - loss: 0.0400 - accuracy: 0.979 - ETA: 16s - loss: 0.0828 - accuracy: 0.976 - ETA: 14s - loss: 0.0903 - accuracy: 0.968 - ETA: 12s - loss: 0.0965 - accuracy: 0.968 - ETA: 11s - loss: 0.1216 - accuracy: 0.964 - ETA: 9s - loss: 0.1363 - accuracy: 0.964 - ETA: 8s - loss: 0.1435 - accuracy: 0.95 - ETA: 6s - loss: 0.1581 - accuracy: 0.95 - ETA: 4s - loss: 0.1823 - accuracy: 0.95 - ETA: 2s - loss: 0.1815 - accuracy: 0.95 - ETA: 1s - loss: 0.1730 - accuracy: 0.95 - 23s 53ms/step - loss: 0.1694 - accuracy: 0.9568\n",
      "Epoch 6/25\n",
      "440/440 [==============================] - ETA: 20s - loss: 0.1437 - accuracy: 0.968 - ETA: 19s - loss: 0.1255 - accuracy: 0.953 - ETA: 17s - loss: 0.1220 - accuracy: 0.958 - ETA: 16s - loss: 0.1003 - accuracy: 0.960 - ETA: 14s - loss: 0.2663 - accuracy: 0.950 - ETA: 12s - loss: 0.2436 - accuracy: 0.947 - ETA: 11s - loss: 0.2358 - accuracy: 0.946 - ETA: 9s - loss: 0.2150 - accuracy: 0.949 - ETA: 7s - loss: 0.2461 - accuracy: 0.94 - ETA: 6s - loss: 0.2292 - accuracy: 0.94 - ETA: 4s - loss: 0.2324 - accuracy: 0.93 - ETA: 2s - loss: 0.2136 - accuracy: 0.94 - ETA: 1s - loss: 0.1975 - accuracy: 0.94 - 23s 53ms/step - loss: 0.1891 - accuracy: 0.9500\n",
      "Epoch 7/25\n",
      "440/440 [==============================] - ETA: 21s - loss: 0.0164 - accuracy: 1.000 - ETA: 20s - loss: 0.0156 - accuracy: 1.000 - ETA: 18s - loss: 0.1300 - accuracy: 0.989 - ETA: 16s - loss: 0.1257 - accuracy: 0.976 - ETA: 14s - loss: 0.1022 - accuracy: 0.981 - ETA: 13s - loss: 0.1358 - accuracy: 0.974 - ETA: 11s - loss: 0.1404 - accuracy: 0.968 - ETA: 9s - loss: 0.1391 - accuracy: 0.968 - ETA: 7s - loss: 0.1563 - accuracy: 0.96 - ETA: 6s - loss: 0.1701 - accuracy: 0.96 - ETA: 4s - loss: 0.1589 - accuracy: 0.96 - ETA: 2s - loss: 0.1457 - accuracy: 0.96 - ETA: 1s - loss: 0.1400 - accuracy: 0.96 - 23s 53ms/step - loss: 0.1411 - accuracy: 0.9636\n",
      "Epoch 8/25\n",
      "440/440 [==============================] - ETA: 21s - loss: 1.9468e-04 - accuracy: 1.000 - ETA: 19s - loss: 0.0015 - accuracy: 1.0000    - ETA: 17s - loss: 0.0017 - accuracy: 1.000 - ETA: 16s - loss: 0.0017 - accuracy: 1.000 - ETA: 14s - loss: 0.0896 - accuracy: 0.993 - ETA: 12s - loss: 0.0933 - accuracy: 0.989 - ETA: 11s - loss: 0.0873 - accuracy: 0.986 - ETA: 9s - loss: 0.1049 - accuracy: 0.980 - ETA: 7s - loss: 0.0974 - accuracy: 0.97 - ETA: 6s - loss: 0.0881 - accuracy: 0.98 - ETA: 4s - loss: 0.1040 - accuracy: 0.97 - ETA: 2s - loss: 0.0975 - accuracy: 0.97 - ETA: 1s - loss: 0.1312 - accuracy: 0.96 - 23s 52ms/step - loss: 0.1474 - accuracy: 0.9682\n",
      "Epoch 9/25\n",
      "440/440 [==============================] - ETA: 20s - loss: 0.0362 - accuracy: 0.968 - ETA: 19s - loss: 0.1889 - accuracy: 0.953 - ETA: 17s - loss: 0.1292 - accuracy: 0.968 - ETA: 15s - loss: 0.0985 - accuracy: 0.976 - ETA: 14s - loss: 0.0825 - accuracy: 0.981 - ETA: 12s - loss: 0.0691 - accuracy: 0.984 - ETA: 11s - loss: 0.0689 - accuracy: 0.982 - ETA: 9s - loss: 0.0633 - accuracy: 0.984 - ETA: 7s - loss: 0.0629 - accuracy: 0.98 - ETA: 6s - loss: 0.0696 - accuracy: 0.98 - ETA: 4s - loss: 0.1063 - accuracy: 0.97 - ETA: 2s - loss: 0.1044 - accuracy: 0.97 - ETA: 1s - loss: 0.0976 - accuracy: 0.97 - 23s 52ms/step - loss: 0.1077 - accuracy: 0.9727\n",
      "Epoch 10/25\n",
      "440/440 [==============================] - ETA: 20s - loss: 0.2245 - accuracy: 0.937 - ETA: 19s - loss: 0.1396 - accuracy: 0.953 - ETA: 17s - loss: 0.1034 - accuracy: 0.968 - ETA: 16s - loss: 0.0922 - accuracy: 0.968 - ETA: 14s - loss: 0.0737 - accuracy: 0.975 - ETA: 12s - loss: 0.0651 - accuracy: 0.979 - ETA: 11s - loss: 0.0591 - accuracy: 0.982 - ETA: 9s - loss: 0.0555 - accuracy: 0.980 - ETA: 7s - loss: 0.0693 - accuracy: 0.97 - ETA: 6s - loss: 0.0624 - accuracy: 0.98 - ETA: 4s - loss: 0.0583 - accuracy: 0.98 - ETA: 2s - loss: 0.0560 - accuracy: 0.98 - ETA: 1s - loss: 0.0606 - accuracy: 0.98 - 23s 52ms/step - loss: 0.0592 - accuracy: 0.9795\n",
      "Epoch 11/25\n",
      "440/440 [==============================] - ETA: 20s - loss: 0.0480 - accuracy: 1.000 - ETA: 19s - loss: 0.0459 - accuracy: 0.984 - ETA: 17s - loss: 0.0677 - accuracy: 0.968 - ETA: 16s - loss: 0.0879 - accuracy: 0.968 - ETA: 14s - loss: 0.0804 - accuracy: 0.968 - ETA: 12s - loss: 0.0670 - accuracy: 0.974 - ETA: 11s - loss: 0.0652 - accuracy: 0.973 - ETA: 9s - loss: 0.0573 - accuracy: 0.976 - ETA: 7s - loss: 0.0536 - accuracy: 0.97 - ETA: 6s - loss: 0.0850 - accuracy: 0.97 - ETA: 4s - loss: 0.0815 - accuracy: 0.97 - ETA: 2s - loss: 0.0789 - accuracy: 0.97 - ETA: 1s - loss: 0.0760 - accuracy: 0.97 - 23s 52ms/step - loss: 0.0719 - accuracy: 0.9773\n",
      "Epoch 12/25\n",
      "440/440 [==============================] - ETA: 21s - loss: 0.0379 - accuracy: 0.968 - ETA: 19s - loss: 0.0204 - accuracy: 0.984 - ETA: 17s - loss: 0.0400 - accuracy: 0.968 - ETA: 16s - loss: 0.0314 - accuracy: 0.976 - ETA: 14s - loss: 0.0262 - accuracy: 0.981 - ETA: 12s - loss: 0.0238 - accuracy: 0.984 - ETA: 11s - loss: 0.0303 - accuracy: 0.977 - ETA: 9s - loss: 0.0266 - accuracy: 0.980 - ETA: 7s - loss: 0.0259 - accuracy: 0.98 - ETA: 6s - loss: 0.0382 - accuracy: 0.97 - ETA: 4s - loss: 0.0348 - accuracy: 0.97 - ETA: 2s - loss: 0.0409 - accuracy: 0.97 - ETA: 1s - loss: 0.0469 - accuracy: 0.97 - 23s 53ms/step - loss: 0.0510 - accuracy: 0.9727\n",
      "Epoch 13/25\n"
     ]
    },
    {
     "name": "stdout",
     "output_type": "stream",
     "text": [
      "440/440 [==============================] - ETA: 21s - loss: 1.3692e-04 - accuracy: 1.000 - ETA: 19s - loss: 0.0286 - accuracy: 0.9844    - ETA: 17s - loss: 0.0383 - accuracy: 0.979 - ETA: 16s - loss: 0.0333 - accuracy: 0.984 - ETA: 14s - loss: 0.0421 - accuracy: 0.981 - ETA: 12s - loss: 0.0436 - accuracy: 0.979 - ETA: 11s - loss: 0.0548 - accuracy: 0.977 - ETA: 9s - loss: 0.0480 - accuracy: 0.980 - ETA: 7s - loss: 0.0679 - accuracy: 0.97 - ETA: 6s - loss: 0.0615 - accuracy: 0.97 - ETA: 4s - loss: 0.0559 - accuracy: 0.98 - ETA: 2s - loss: 0.0582 - accuracy: 0.97 - ETA: 1s - loss: 0.0538 - accuracy: 0.97 - 23s 53ms/step - loss: 0.0512 - accuracy: 0.9795\n",
      "Epoch 14/25\n",
      "440/440 [==============================] - ETA: 21s - loss: 0.0383 - accuracy: 1.000 - ETA: 19s - loss: 0.0194 - accuracy: 1.000 - ETA: 18s - loss: 0.0378 - accuracy: 0.989 - ETA: 16s - loss: 0.0351 - accuracy: 0.984 - ETA: 15s - loss: 0.0319 - accuracy: 0.987 - ETA: 13s - loss: 0.0303 - accuracy: 0.984 - ETA: 11s - loss: 0.0602 - accuracy: 0.977 - ETA: 10s - loss: 0.0564 - accuracy: 0.980 - ETA: 8s - loss: 0.0505 - accuracy: 0.982 - ETA: 6s - loss: 0.0459 - accuracy: 0.98 - ETA: 4s - loss: 0.0434 - accuracy: 0.98 - ETA: 3s - loss: 0.0422 - accuracy: 0.98 - ETA: 1s - loss: 0.0446 - accuracy: 0.98 - 25s 56ms/step - loss: 0.0504 - accuracy: 0.9841\n",
      "Epoch 15/25\n",
      "440/440 [==============================] - ETA: 21s - loss: 0.1218 - accuracy: 0.968 - ETA: 19s - loss: 0.0612 - accuracy: 0.984 - ETA: 18s - loss: 0.0459 - accuracy: 0.989 - ETA: 16s - loss: 0.0387 - accuracy: 0.992 - ETA: 14s - loss: 0.0576 - accuracy: 0.975 - ETA: 12s - loss: 0.0493 - accuracy: 0.979 - ETA: 11s - loss: 0.0422 - accuracy: 0.982 - ETA: 9s - loss: 0.0524 - accuracy: 0.980 - ETA: 7s - loss: 0.0466 - accuracy: 0.98 - ETA: 6s - loss: 0.0421 - accuracy: 0.98 - ETA: 4s - loss: 0.0425 - accuracy: 0.98 - ETA: 2s - loss: 0.0390 - accuracy: 0.98 - ETA: 1s - loss: 0.0385 - accuracy: 0.98 - 23s 52ms/step - loss: 0.0422 - accuracy: 0.9841\n",
      "Epoch 16/25\n",
      "440/440 [==============================] - ETA: 20s - loss: 0.0035 - accuracy: 1.000 - ETA: 19s - loss: 0.0124 - accuracy: 1.000 - ETA: 17s - loss: 0.0228 - accuracy: 0.989 - ETA: 16s - loss: 0.0176 - accuracy: 0.992 - ETA: 14s - loss: 0.0945 - accuracy: 0.975 - ETA: 12s - loss: 0.0788 - accuracy: 0.979 - ETA: 11s - loss: 0.0676 - accuracy: 0.982 - ETA: 9s - loss: 0.0613 - accuracy: 0.984 - ETA: 7s - loss: 0.0559 - accuracy: 0.98 - ETA: 6s - loss: 0.0508 - accuracy: 0.98 - ETA: 4s - loss: 0.0485 - accuracy: 0.98 - ETA: 3s - loss: 0.0450 - accuracy: 0.98 - ETA: 1s - loss: 0.0425 - accuracy: 0.98 - 24s 54ms/step - loss: 0.0497 - accuracy: 0.9864\n",
      "Epoch 17/25\n",
      "440/440 [==============================] - ETA: 21s - loss: 0.0020 - accuracy: 1.000 - ETA: 20s - loss: 0.0047 - accuracy: 1.000 - ETA: 18s - loss: 0.0034 - accuracy: 1.000 - ETA: 16s - loss: 0.0160 - accuracy: 1.000 - ETA: 15s - loss: 0.0357 - accuracy: 0.993 - ETA: 13s - loss: 0.0302 - accuracy: 0.994 - ETA: 11s - loss: 0.0286 - accuracy: 0.995 - ETA: 9s - loss: 0.0326 - accuracy: 0.992 - ETA: 8s - loss: 0.0480 - accuracy: 0.98 - ETA: 6s - loss: 0.0568 - accuracy: 0.98 - ETA: 4s - loss: 0.0522 - accuracy: 0.98 - ETA: 2s - loss: 0.0492 - accuracy: 0.98 - ETA: 1s - loss: 0.0523 - accuracy: 0.98 - 23s 53ms/step - loss: 0.0500 - accuracy: 0.9841\n",
      "Epoch 18/25\n",
      "440/440 [==============================] - ETA: 21s - loss: 0.3044 - accuracy: 0.937 - ETA: 19s - loss: 0.1899 - accuracy: 0.953 - ETA: 17s - loss: 0.1325 - accuracy: 0.968 - ETA: 16s - loss: 0.0995 - accuracy: 0.976 - ETA: 14s - loss: 0.0861 - accuracy: 0.975 - ETA: 12s - loss: 0.0719 - accuracy: 0.979 - ETA: 11s - loss: 0.0619 - accuracy: 0.982 - ETA: 9s - loss: 0.0547 - accuracy: 0.984 - ETA: 8s - loss: 0.0561 - accuracy: 0.97 - ETA: 6s - loss: 0.0677 - accuracy: 0.97 - ETA: 4s - loss: 0.0658 - accuracy: 0.97 - ETA: 3s - loss: 0.0662 - accuracy: 0.97 - ETA: 1s - loss: 0.0643 - accuracy: 0.97 - 24s 55ms/step - loss: 0.0727 - accuracy: 0.9659\n",
      "Epoch 19/25\n",
      "440/440 [==============================] - ETA: 21s - loss: 0.0066 - accuracy: 1.000 - ETA: 19s - loss: 0.0044 - accuracy: 1.000 - ETA: 17s - loss: 0.0030 - accuracy: 1.000 - ETA: 16s - loss: 0.0105 - accuracy: 0.992 - ETA: 14s - loss: 0.0087 - accuracy: 0.993 - ETA: 12s - loss: 0.0072 - accuracy: 0.994 - ETA: 11s - loss: 0.0087 - accuracy: 0.995 - ETA: 9s - loss: 0.0109 - accuracy: 0.992 - ETA: 7s - loss: 0.0099 - accuracy: 0.99 - ETA: 6s - loss: 0.0277 - accuracy: 0.99 - ETA: 4s - loss: 0.0359 - accuracy: 0.98 - ETA: 2s - loss: 0.0369 - accuracy: 0.98 - ETA: 1s - loss: 0.0341 - accuracy: 0.98 - 23s 53ms/step - loss: 0.0323 - accuracy: 0.9886\n",
      "Epoch 20/25\n",
      "440/440 [==============================] - ETA: 21s - loss: 7.3108e-04 - accuracy: 1.000 - ETA: 19s - loss: 0.0278 - accuracy: 0.9844    - ETA: 17s - loss: 0.0186 - accuracy: 0.989 - ETA: 16s - loss: 0.0139 - accuracy: 0.992 - ETA: 14s - loss: 0.0190 - accuracy: 0.987 - ETA: 12s - loss: 0.0175 - accuracy: 0.989 - ETA: 11s - loss: 0.0218 - accuracy: 0.986 - ETA: 9s - loss: 0.0221 - accuracy: 0.988 - ETA: 7s - loss: 0.0221 - accuracy: 0.98 - ETA: 6s - loss: 0.0200 - accuracy: 0.99 - ETA: 4s - loss: 0.0235 - accuracy: 0.98 - ETA: 2s - loss: 0.0238 - accuracy: 0.98 - ETA: 1s - loss: 0.0242 - accuracy: 0.98 - 23s 52ms/step - loss: 0.0235 - accuracy: 0.9864\n",
      "Epoch 21/25\n",
      "440/440 [==============================] - ETA: 21s - loss: 0.0911 - accuracy: 0.937 - ETA: 19s - loss: 0.0463 - accuracy: 0.968 - ETA: 17s - loss: 0.0312 - accuracy: 0.979 - ETA: 16s - loss: 0.0234 - accuracy: 0.984 - ETA: 14s - loss: 0.0188 - accuracy: 0.987 - ETA: 13s - loss: 0.0229 - accuracy: 0.984 - ETA: 11s - loss: 0.0320 - accuracy: 0.977 - ETA: 9s - loss: 0.0283 - accuracy: 0.980 - ETA: 8s - loss: 0.0301 - accuracy: 0.97 - ETA: 6s - loss: 0.0271 - accuracy: 0.98 - ETA: 4s - loss: 0.0256 - accuracy: 0.98 - ETA: 2s - loss: 0.0442 - accuracy: 0.98 - ETA: 1s - loss: 0.0556 - accuracy: 0.98 - 23s 53ms/step - loss: 0.0635 - accuracy: 0.9773\n",
      "Epoch 22/25\n",
      "440/440 [==============================] - ETA: 20s - loss: 0.0019 - accuracy: 1.000 - ETA: 19s - loss: 0.0012 - accuracy: 1.000 - ETA: 17s - loss: 0.0139 - accuracy: 0.989 - ETA: 16s - loss: 0.0117 - accuracy: 0.992 - ETA: 14s - loss: 0.0094 - accuracy: 0.993 - ETA: 12s - loss: 0.0147 - accuracy: 0.989 - ETA: 11s - loss: 0.0202 - accuracy: 0.986 - ETA: 9s - loss: 0.0192 - accuracy: 0.988 - ETA: 7s - loss: 0.0171 - accuracy: 0.98 - ETA: 6s - loss: 0.0160 - accuracy: 0.99 - ETA: 4s - loss: 0.0201 - accuracy: 0.98 - ETA: 2s - loss: 0.0184 - accuracy: 0.98 - ETA: 1s - loss: 0.0190 - accuracy: 0.99 - 23s 52ms/step - loss: 0.0201 - accuracy: 0.9886\n",
      "Epoch 23/25\n",
      "440/440 [==============================] - ETA: 21s - loss: 0.0286 - accuracy: 1.000 - ETA: 19s - loss: 0.1162 - accuracy: 0.984 - ETA: 17s - loss: 0.0775 - accuracy: 0.989 - ETA: 16s - loss: 0.0585 - accuracy: 0.992 - ETA: 14s - loss: 0.0468 - accuracy: 0.993 - ETA: 12s - loss: 0.0768 - accuracy: 0.989 - ETA: 11s - loss: 0.0867 - accuracy: 0.986 - ETA: 9s - loss: 0.1438 - accuracy: 0.980 - ETA: 7s - loss: 0.1301 - accuracy: 0.98 - ETA: 6s - loss: 0.1176 - accuracy: 0.98 - ETA: 4s - loss: 0.1119 - accuracy: 0.98 - ETA: 2s - loss: 0.1055 - accuracy: 0.98 - ETA: 1s - loss: 0.0974 - accuracy: 0.98 - 23s 52ms/step - loss: 0.0974 - accuracy: 0.9818\n",
      "Epoch 24/25\n",
      "440/440 [==============================] - ETA: 20s - loss: 0.1789 - accuracy: 0.937 - ETA: 19s - loss: 0.0902 - accuracy: 0.968 - ETA: 17s - loss: 0.0796 - accuracy: 0.968 - ETA: 15s - loss: 0.0601 - accuracy: 0.976 - ETA: 14s - loss: 0.0487 - accuracy: 0.981 - ETA: 12s - loss: 0.0407 - accuracy: 0.984 - ETA: 11s - loss: 0.0357 - accuracy: 0.986 - ETA: 9s - loss: 0.0343 - accuracy: 0.988 - ETA: 7s - loss: 0.0324 - accuracy: 0.98 - ETA: 6s - loss: 0.0293 - accuracy: 0.99 - ETA: 4s - loss: 0.0293 - accuracy: 0.99 - ETA: 2s - loss: 0.0295 - accuracy: 0.98 - ETA: 1s - loss: 0.0302 - accuracy: 0.98 - 23s 52ms/step - loss: 0.0292 - accuracy: 0.9886\n",
      "Epoch 25/25\n"
     ]
    },
    {
     "name": "stdout",
     "output_type": "stream",
     "text": [
      "440/440 [==============================] - ETA: 20s - loss: 0.0070 - accuracy: 1.000 - ETA: 19s - loss: 0.0038 - accuracy: 1.000 - ETA: 18s - loss: 0.0149 - accuracy: 0.989 - ETA: 16s - loss: 0.0203 - accuracy: 0.984 - ETA: 14s - loss: 0.0379 - accuracy: 0.975 - ETA: 12s - loss: 0.0316 - accuracy: 0.979 - ETA: 11s - loss: 0.0274 - accuracy: 0.982 - ETA: 9s - loss: 0.0250 - accuracy: 0.984 - ETA: 7s - loss: 0.0225 - accuracy: 0.98 - ETA: 6s - loss: 0.0204 - accuracy: 0.98 - ETA: 4s - loss: 0.0236 - accuracy: 0.98 - ETA: 2s - loss: 0.0252 - accuracy: 0.98 - ETA: 1s - loss: 0.0248 - accuracy: 0.98 - 23s 53ms/step - loss: 0.0266 - accuracy: 0.9864\n"
     ]
    }
   ],
   "source": [
    "model.compile(optimizer='adam', loss='sparse_categorical_crossentropy', metrics=['accuracy'])\n",
    "history = model.fit(train_images, train_labels, batch_size=32, epochs=25)"
   ]
  },
  {
   "cell_type": "code",
   "execution_count": 34,
   "metadata": {},
   "outputs": [
    {
     "data": {
      "text/plain": [
       "[0, 11, 0, 1]"
      ]
     },
     "execution_count": 34,
     "metadata": {},
     "output_type": "execute_result"
    },
    {
     "data": {
      "image/png": "[encoded data removed]",
      "text/plain": [
       "<Figure size 432x288 with 1 Axes>"
      ]
     },
     "metadata": {
      "needs_background": "light"
     },
     "output_type": "display_data"
    }
   ],
   "source": [
    "pd.DataFrame(history.history).plot()\n",
    "plt.axis([0,11,0,1])"
   ]
  },
  {
   "cell_type": "code",
   "execution_count": 35,
   "metadata": {},
   "outputs": [],
   "source": [
    "train_predictions = model.predict_classes(train_images, batch_size=44)"
   ]
  },
  {
   "cell_type": "code",
   "execution_count": 36,
   "metadata": {},
   "outputs": [
    {
     "data": {
      "image/png": "[encoded data removed]",
      "text/plain": [
       "<Figure size 432x288 with 2 Axes>"
      ]
     },
     "metadata": {
      "needs_background": "light"
     },
     "output_type": "display_data"
    }
   ],
   "source": [
    "sns.heatmap(confusion_matrix(train_labels, train_predictions), annot=True, xticklabels=class_names, yticklabels=class_names)\n",
    "plt.show()"
   ]
  },
  {
   "cell_type": "code",
   "execution_count": 37,
   "metadata": {},
   "outputs": [
    {
     "name": "stdout",
     "output_type": "stream",
     "text": [
      "[[102   0   0   0]\n",
      " [  0 107   0   0]\n",
      " [  0   0 112   0]\n",
      " [  0   0   0 119]]\n"
     ]
    }
   ],
   "source": [
    "print(confusion_matrix(train_labels, train_predictions))"
   ]
  },
  {
   "cell_type": "code",
   "execution_count": 39,
   "metadata": {},
   "outputs": [
    {
     "name": "stdout",
     "output_type": "stream",
     "text": [
      "predicted category: [3]\n",
      "Actual category: 3\n"
     ]
    },
    {
     "name": "stderr",
     "output_type": "stream",
     "text": [
      "Clipping input data to the valid range for imshow with RGB data ([0..1] for floats or [0..255] for integers).\n"
     ]
    },
    {
     "data": {
      "image/png": "[encoded data removed]",
      "text/plain": [
       "<Figure size 432x288 with 1 Axes>"
      ]
     },
     "metadata": {
      "needs_background": "light"
     },
     "output_type": "display_data"
    }
   ],
   "source": [
    "some_image = train_images[400]\n",
    "some_image_label = train_labels[400]\n",
    "print(f'predicted category: {model.predict_classes(some_image.reshape(1,150,150,3))}')\n",
    "print(f\"Actual category: {some_image_label}\")\n",
    "plt.imshow(some_image)\n",
    "plt.show()"
   ]
  },
  {
   "cell_type": "code",
   "execution_count": 51,
   "metadata": {},
   "outputs": [
    {
     "name": "stdout",
     "output_type": "stream",
     "text": [
      "loading {} F:/DS/CNN_assignment-20200702T094027Z-001/CNN_assignment/Dataset/test\n"
     ]
    },
    {
     "name": "stderr",
     "output_type": "stream",
     "text": [
      "100%|██████████████████████████████████████████████████████████████████████████████████| 30/30 [00:01<00:00, 28.32it/s]\n"
     ]
    }
   ],
   "source": [
    "#Categorizing test data\n",
    "test_image_id, test_images = load_test_data()"
   ]
  },
  {
   "cell_type": "code",
   "execution_count": 52,
   "metadata": {},
   "outputs": [],
   "source": [
    "test_predictions = model.predict_classes(test_images, verbose=2)"
   ]
  },
  {
   "cell_type": "code",
   "execution_count": 58,
   "metadata": {},
   "outputs": [],
   "source": [
    "results_df = pd.DataFrame({\n",
    "    'Image_ID': test_image_id,\n",
    "    'Predicted Labels': test_predictions\n",
    "}).set_index('Image_ID')"
   ]
  },
  {
   "cell_type": "code",
   "execution_count": 59,
   "metadata": {},
   "outputs": [
    {
     "data": {
      "text/html": [
       "<div>\n",
       "<style scoped>\n",
       "    .dataframe tbody tr th:only-of-type {\n",
       "        vertical-align: middle;\n",
       "    }\n",
       "\n",
       "    .dataframe tbody tr th {\n",
       "        vertical-align: top;\n",
       "    }\n",
       "\n",
       "    .dataframe thead th {\n",
       "        text-align: right;\n",
       "    }\n",
       "</style>\n",
       "<table border=\"1\" class=\"dataframe\">\n",
       "  <thead>\n",
       "    <tr style=\"text-align: right;\">\n",
       "      <th></th>\n",
       "      <th>Predicted Labels</th>\n",
       "    </tr>\n",
       "    <tr>\n",
       "      <th>Image_ID</th>\n",
       "      <th></th>\n",
       "    </tr>\n",
       "  </thead>\n",
       "  <tbody>\n",
       "    <tr>\n",
       "      <td>1051.png</td>\n",
       "      <td>3</td>\n",
       "    </tr>\n",
       "    <tr>\n",
       "      <td>1052.png</td>\n",
       "      <td>3</td>\n",
       "    </tr>\n",
       "    <tr>\n",
       "      <td>4043.png</td>\n",
       "      <td>3</td>\n",
       "    </tr>\n",
       "    <tr>\n",
       "      <td>4050.png</td>\n",
       "      <td>3</td>\n",
       "    </tr>\n",
       "    <tr>\n",
       "      <td>4051.png</td>\n",
       "      <td>3</td>\n",
       "    </tr>\n",
       "  </tbody>\n",
       "</table>\n",
       "</div>"
      ],
      "text/plain": [
       "          Predicted Labels\n",
       "Image_ID                  \n",
       "1051.png                 3\n",
       "1052.png                 3\n",
       "4043.png                 3\n",
       "4050.png                 3\n",
       "4051.png                 3"
      ]
     },
     "execution_count": 59,
     "metadata": {},
     "output_type": "execute_result"
    }
   ],
   "source": [
    "results_df.head()"
   ]
  },
  {
   "cell_type": "code",
   "execution_count": 60,
   "metadata": {},
   "outputs": [],
   "source": [
    "def label2class(label):\n",
    "    return 'category'+str(label+1)\n",
    "results_df['Class'] = results_df['Predicted Labels'].apply(label2class)\n",
    "results_df.drop('Predicted Labels', axis=1, inplace=True)"
   ]
  },
  {
   "cell_type": "code",
   "execution_count": 61,
   "metadata": {},
   "outputs": [],
   "source": [
    "results_df.to_csv('F:/DS/CNN_assignment-20200702T094027Z-001/CNN_assignment/results.csv')"
   ]
  },
  {
   "cell_type": "code",
   "execution_count": 62,
   "metadata": {},
   "outputs": [
    {
     "data": {
      "text/plain": [
       "'category4'"
      ]
     },
     "execution_count": 62,
     "metadata": {},
     "output_type": "execute_result"
    }
   ],
   "source": [
    "list(results_df.loc['1052.png'])[0]"
   ]
  },
  {
   "cell_type": "code",
   "execution_count": null,
   "metadata": {},
   "outputs": [],
   "source": []
  },
  {
   "cell_type": "code",
   "execution_count": null,
   "metadata": {},
   "outputs": [],
   "source": []
  },
  {
   "cell_type": "code",
   "execution_count": null,
   "metadata": {},
   "outputs": [],
   "source": []
  }
 ],
 "metadata": {
  "kernelspec": {
   "display_name": "Python 3",
   "language": "python",
   "name": "python3"
  },
  "language_info": {
   "codemirror_mode": {
    "name": "ipython",
    "version": 3
   },
   "file_extension": ".py",
   "mimetype": "text/x-python",
   "name": "python",
   "nbconvert_exporter": "python",
   "pygments_lexer": "ipython3",
   "version": "3.7.4"
  }
 },
 "nbformat": 4,
 "nbformat_minor": 2
}
